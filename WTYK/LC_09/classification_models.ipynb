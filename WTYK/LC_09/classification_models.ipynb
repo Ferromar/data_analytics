{
 "cells": [
  {
   "cell_type": "markdown",
   "metadata": {},
   "source": [
    "# Classification models based on data about pets"
   ]
  },
  {
   "cell_type": "markdown",
   "metadata": {},
   "source": [
    "## Libraries and settings"
   ]
  },
  {
   "cell_type": "code",
   "execution_count": null,
   "metadata": {},
   "outputs": [],
   "source": [
    "# Libraries\n",
    "import os\n",
    "import random\n",
    "import numpy as np\n",
    "import pandas as pd\n",
    "from sklearn import tree\n",
    "from sklearn import metrics\n",
    "import matplotlib.pyplot as plt\n",
    "from sklearn.datasets import make_classification\n",
    "from sklearn.tree import DecisionTreeClassifier\n",
    "from sklearn.ensemble import RandomForestClassifier\n",
    "from sklearn.model_selection import cross_val_score\n",
    "from sklearn.model_selection import train_test_split\n",
    "\n",
    "# Ignore warnings\n",
    "import warnings\n",
    "warnings.filterwarnings('ignore')\n",
    "\n",
    "# Show current working directory\n",
    "print(os.getcwd())"
   ]
  },
  {
   "cell_type": "markdown",
   "metadata": {},
   "source": [
    "## Simulate pet data"
   ]
  },
  {
   "cell_type": "code",
   "execution_count": null,
   "metadata": {},
   "outputs": [],
   "source": [
    "# Set a seed for reproducibility\n",
    "random.seed(42)\n",
    "\n",
    "# Function to generate pets\n",
    "def pets(pet_type, weight_min, weight_max, height_min, height_max, n_animals=1000):\n",
    "\n",
    "    pets = pd.DataFrame({\n",
    "            'age': [random.randint(1, 15) for _ in range(n_animals)],\n",
    "            'color': [random.choice(['red', 'blue', 'green', 'yellow']) for _ in range(n_animals)],\n",
    "            'weight': [random.uniform(weight_min, weight_max) for _ in range(n_animals)],\n",
    "            'height': [random.uniform(height_min, height_max) for _ in range(n_animals)],\n",
    "            'eats_meat': [random.choice(['yes', 'no']) for _ in range(n_animals)],\n",
    "            'pets': [pet_type for _ in range(n_animals)]})\n",
    "\n",
    "    return pets\n",
    "\n",
    "# Simulate data about dogs, cats, birds, and fishes\n",
    "dogs = pets('dog', weight_min=5, weight_max=80, height_min=20, height_max=90)\n",
    "cats = pets('cat', weight_min=2, weight_max=8, height_min=20, height_max=40)\n",
    "birds = pets('bird', weight_min=0.2, weight_max=7, height_min=10, height_max=80)\n",
    "fishes = pets('fish', weight_min=0.1, weight_max=30, height_min=10, height_max=30)\n",
    "\n",
    "# Concatenate all animal data to create a single dataframe\n",
    "df_orig = pd.concat([dogs, cats, birds, fishes])\n",
    "\n",
    "# Shuffle the data\n",
    "df_orig = df_orig.sample(frac=1, random_state=42).reset_index(drop=True)\n",
    "\n",
    "# Show the first few rows\n",
    "df_orig.head()"
   ]
  },
  {
   "cell_type": "markdown",
   "metadata": {},
   "source": [
    "## Convert categorical features to numerical using one-hot encoding"
   ]
  },
  {
   "cell_type": "code",
   "execution_count": null,
   "metadata": {},
   "outputs": [],
   "source": [
    "# Convert categorical feature to numerical using one-hot encoding (exclude column 'pets')\n"
   ]
  },
  {
   "cell_type": "markdown",
   "metadata": {},
   "source": [
    "### Create train and test samples (train = 80%, test = 20% of the data)"
   ]
  },
  {
   "cell_type": "code",
   "execution_count": null,
   "metadata": {},
   "outputs": [],
   "source": [
    "# Create train and test samples\n",
    "\n",
    "\n",
    "# Show X_train\n",
    "\n",
    "\n",
    "# Show y_train\n"
   ]
  },
  {
   "cell_type": "markdown",
   "metadata": {},
   "source": [
    "## Fit a classification tree"
   ]
  },
  {
   "cell_type": "code",
   "execution_count": null,
   "metadata": {},
   "outputs": [],
   "source": [
    "# Create decision tree regressor object with max_depth = 3\n",
    "\n",
    "\n",
    "# Train decision tree regressor\n",
    "\n",
    "\n",
    "# Predict the response for test dataset\n"
   ]
  },
  {
   "cell_type": "markdown",
   "metadata": {},
   "source": [
    "## Use cross-validation to evaluate the model performance"
   ]
  },
  {
   "cell_type": "code",
   "execution_count": null,
   "metadata": {},
   "outputs": [],
   "source": [
    "# Cross-validation (5-fold) with X_test and y_test, cv=5 and scoring='accuracy'\n",
    "\n",
    "\n",
    "# Result\n"
   ]
  },
  {
   "cell_type": "markdown",
   "metadata": {},
   "source": [
    "## Plot the classification tree"
   ]
  },
  {
   "cell_type": "code",
   "execution_count": null,
   "metadata": {},
   "outputs": [],
   "source": [
    "# Get unique class names from df_orig['pets']\n",
    "\n",
    "\n",
    "# For the meaning of numbers in each box, look at the root node\n",
    "\n",
    "\n",
    "# Plot the \n"
   ]
  },
  {
   "cell_type": "markdown",
   "metadata": {},
   "source": [
    "## Fit the Random Forest Classifier"
   ]
  },
  {
   "cell_type": "code",
   "execution_count": null,
   "metadata": {},
   "outputs": [],
   "source": [
    "# Create a random forest Classifier (by convention, clf means 'classifier')\n",
    "\n",
    "\n",
    "# Predict the response for test dataset\n",
    "\n",
    "\n",
    "# Calculate accuracy\n"
   ]
  },
  {
   "cell_type": "markdown",
   "metadata": {},
   "source": [
    "## Show feature importance"
   ]
  },
  {
   "cell_type": "code",
   "execution_count": null,
   "metadata": {},
   "outputs": [],
   "source": [
    "# Get colnames from X_train\n",
    "\n",
    "\n",
    "# Derive feature importance from random forest\n",
    "\n",
    "\n",
    "# Print col-names and importances-values\n",
    "\n",
    "\n",
    "# Barplot with feature importance\n"
   ]
  },
  {
   "cell_type": "markdown",
   "metadata": {},
   "source": [
    "### Jupyter notebook --footer info-- (please always provide this at the end of each notebook)"
   ]
  },
  {
   "cell_type": "code",
   "execution_count": null,
   "metadata": {},
   "outputs": [],
   "source": [
    "import os\n",
    "import platform\n",
    "import socket\n",
    "from platform import python_version\n",
    "from datetime import datetime\n",
    "\n",
    "print('-----------------------------------')\n",
    "print(os.name.upper())\n",
    "print(platform.system(), '|', platform.release())\n",
    "print('Datetime:', datetime.now().strftime(\"%Y-%m-%d %H:%M:%S\"))\n",
    "print('Python Version:', python_version())\n",
    "print('-----------------------------------')"
   ]
  }
 ],
 "metadata": {
  "kernelspec": {
   "display_name": "daenv",
   "language": "python",
   "name": "python3"
  },
  "language_info": {
   "codemirror_mode": {
    "name": "ipython",
    "version": 3
   },
   "file_extension": ".py",
   "mimetype": "text/x-python",
   "name": "python",
   "nbconvert_exporter": "python",
   "pygments_lexer": "ipython3",
   "version": "3.11.9"
  }
 },
 "nbformat": 4,
 "nbformat_minor": 2
}
