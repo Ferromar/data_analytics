{
 "cells": [
  {
   "cell_type": "markdown",
   "metadata": {},
   "source": [
    "# Classification models based on data about pets"
   ]
  },
  {
   "cell_type": "markdown",
   "metadata": {},
   "source": [
    "## Libraries and settings"
   ]
  },
  {
   "cell_type": "code",
   "execution_count": null,
   "metadata": {},
   "outputs": [],
   "source": [
    "# Libraries\n",
    "import os\n",
    "import random\n",
    "import numpy as np\n",
    "import pandas as pd\n",
    "from sklearn import tree\n",
    "from sklearn import metrics\n",
    "import matplotlib.pyplot as plt\n",
    "from sklearn.datasets import make_classification\n",
    "from sklearn.tree import DecisionTreeClassifier\n",
    "from sklearn.ensemble import RandomForestClassifier\n",
    "from sklearn.model_selection import cross_val_score\n",
    "from sklearn.model_selection import train_test_split\n",
    "\n",
    "# Ignore warnings\n",
    "import warnings\n",
    "warnings.filterwarnings('ignore')\n",
    "\n",
    "# Show current working directory\n",
    "print(os.getcwd())"
   ]
  },
  {
   "cell_type": "markdown",
   "metadata": {},
   "source": [
    "## Simulate pet data"
   ]
  },
  {
   "cell_type": "code",
   "execution_count": null,
   "metadata": {},
   "outputs": [],
   "source": [
    "# Set a seed for reproducibility\n",
    "random.seed(42)\n",
    "\n",
    "# Function to generate pets\n",
    "def pets(pet_type, weight_min, weight_max, height_min, height_max, n_animals=1000):\n",
    "\n",
    "    pets = pd.DataFrame({\n",
    "            'age': [random.randint(1, 15) for _ in range(n_animals)],\n",
    "            'color': [random.choice(['red', 'blue', 'green', 'yellow']) for _ in range(n_animals)],\n",
    "            'weight': [random.uniform(weight_min, weight_max) for _ in range(n_animals)],\n",
    "            'height': [random.uniform(height_min, height_max) for _ in range(n_animals)],\n",
    "            'eats_meat': [random.choice(['yes', 'no']) for _ in range(n_animals)],\n",
    "            'pets': [pet_type for _ in range(n_animals)]})\n",
    "\n",
    "    return pets\n",
    "\n",
    "# Simulate animals\n",
    "dogs = pets('dog', weight_min=5, weight_max=80, height_min=20, height_max=90)\n",
    "cats = pets('cat', weight_min=2, weight_max=8, height_min=20, height_max=40)\n",
    "birds = pets('bird', weight_min=0.2, weight_max=7, height_min=10, height_max=80)\n",
    "fishes = pets('fish', weight_min=0.1, weight_max=30, height_min=10, height_max=30)\n",
    "\n",
    "df_orig = pd.concat([dogs, cats, birds, fishes])\n",
    "df_orig"
   ]
  },
  {
   "cell_type": "markdown",
   "metadata": {},
   "source": [
    "## Convert categorical features to numerical using one-hot encoding"
   ]
  },
  {
   "cell_type": "code",
   "execution_count": null,
   "metadata": {},
   "outputs": [],
   "source": [
    "X = pd.get_dummies(df_orig.drop('pets', axis=1))\n",
    "X"
   ]
  },
  {
   "cell_type": "markdown",
   "metadata": {},
   "source": [
    "### Create train and test samples (train = 80%, test = 20% of the data)"
   ]
  },
  {
   "cell_type": "code",
   "execution_count": null,
   "metadata": {},
   "outputs": [],
   "source": [
    "# Create train and test samples\n",
    "X_train, X_test, y_train, y_test = train_test_split(X,\n",
    "                                                    df_orig['pets'], \n",
    "                                                    test_size=0.20, \n",
    "                                                    random_state=42)\n",
    "\n",
    "# Show X_train\n",
    "print('X_train:')\n",
    "print(X_train.head(), '\\n')\n",
    "\n",
    "# Show y_train\n",
    "print('y_train:')\n",
    "print(y_train.head())"
   ]
  },
  {
   "cell_type": "markdown",
   "metadata": {},
   "source": [
    "## Fit a classification tree"
   ]
  },
  {
   "cell_type": "code",
   "execution_count": null,
   "metadata": {},
   "outputs": [],
   "source": [
    "# Create decision tree regressor object\n",
    "clf = DecisionTreeClassifier(random_state=20, \n",
    "                             max_depth=3)\n",
    "\n",
    "# Train decision tree regressor\n",
    "clf = clf.fit(X_train, y_train)\n",
    "\n",
    "# Predict the response for test dataset\n",
    "y_pred = clf.predict(X_test)"
   ]
  },
  {
   "cell_type": "markdown",
   "metadata": {},
   "source": [
    "## Use cross-validation to evaluate the model performance"
   ]
  },
  {
   "cell_type": "code",
   "execution_count": null,
   "metadata": {},
   "outputs": [],
   "source": [
    "# Cross-validation (5-fold)\n",
    "cv = cross_val_score(clf, \n",
    "                     X_test, \n",
    "                     y_test, \n",
    "                     cv=5, \n",
    "                     scoring='accuracy')\n",
    "\n",
    "# Result\n",
    "print(list(cv.round(4)), end=\"\")"
   ]
  },
  {
   "cell_type": "markdown",
   "metadata": {},
   "source": [
    "## Plot the classification tree"
   ]
  },
  {
   "cell_type": "code",
   "execution_count": null,
   "metadata": {},
   "outputs": [],
   "source": [
    "# Get unique class names\n",
    "unique_class_names = df_orig['pets'].unique()\n",
    "\n",
    "# For the meaning of numbers in each box, look at the root node\n",
    "fig = plt.figure(figsize=(9,6))\n",
    "\n",
    "# Plot the \n",
    "tree_plot = tree.plot_tree(clf,\n",
    "                           feature_names=list(X_train.columns),\n",
    "                           class_names=['fish', 'cat', 'dog', 'bird'],\n",
    "                           filled=True,\n",
    "                           fontsize=7,\n",
    "                           label='root',\n",
    "                           precision=1)"
   ]
  },
  {
   "cell_type": "markdown",
   "metadata": {},
   "source": [
    "## Fit the Random Forest Classifier"
   ]
  },
  {
   "cell_type": "code",
   "execution_count": null,
   "metadata": {},
   "outputs": [],
   "source": [
    "clf_rf = RandomForestClassifier(n_estimators=500, \n",
    "                               max_depth=10, \n",
    "                               random_state=42)\n",
    "clf_rf.fit(X_train, y_train)\n",
    "\n",
    "# Predict the response for test dataset\n",
    "y_pred = clf_rf.predict(X_test)\n",
    "\n",
    "# Calculate accuracy\n",
    "print(f'Accuracy: {metrics.accuracy_score(y_test, y_pred):.4f}')"
   ]
  },
  {
   "cell_type": "markdown",
   "metadata": {},
   "source": [
    "## Show feature importance"
   ]
  },
  {
   "cell_type": "code",
   "execution_count": null,
   "metadata": {},
   "outputs": [],
   "source": [
    "cols = X_train.columns\n",
    "\n",
    "# Derive feature importance from random forest\n",
    "importances = clf_rf.feature_importances_\n",
    "std         = np.std([tree.feature_importances_ for tree in clf_rf.estimators_], axis=0)\n",
    "indices     = np.argsort(importances)[::-1]\n",
    "\n",
    "# Print col-names and importances-values\n",
    "print( cols[indices] )\n",
    "print( importances[indices] )\n",
    "\n",
    "# Barplot with feature importance\n",
    "df_fi = pd.DataFrame({'features':cols,'importances': importances})\n",
    "df_fi.sort_values('importances', inplace=True)\n",
    "df_fi.plot(kind='barh', \n",
    "           y='importances', \n",
    "           x='features', \n",
    "           color='darkred', \n",
    "           figsize=(6,3))"
   ]
  },
  {
   "cell_type": "markdown",
   "metadata": {},
   "source": [
    "### Jupyter notebook --footer info-- (please always provide this at the end of each notebook)"
   ]
  },
  {
   "cell_type": "code",
   "execution_count": null,
   "metadata": {},
   "outputs": [],
   "source": [
    "import os\n",
    "import platform\n",
    "import socket\n",
    "from platform import python_version\n",
    "from datetime import datetime\n",
    "\n",
    "print('-----------------------------------')\n",
    "print(os.name.upper())\n",
    "print(platform.system(), '|', platform.release())\n",
    "print('Datetime:', datetime.now().strftime(\"%Y-%m-%d %H:%M:%S\"))\n",
    "print('Python Version:', python_version())\n",
    "print('-----------------------------------')"
   ]
  }
 ],
 "metadata": {
  "kernelspec": {
   "display_name": "daenv",
   "language": "python",
   "name": "python3"
  },
  "language_info": {
   "codemirror_mode": {
    "name": "ipython",
    "version": 3
   },
   "file_extension": ".py",
   "mimetype": "text/x-python",
   "name": "python",
   "nbconvert_exporter": "python",
   "pygments_lexer": "ipython3",
   "version": "3.11.9"
  }
 },
 "nbformat": 4,
 "nbformat_minor": 2
}
